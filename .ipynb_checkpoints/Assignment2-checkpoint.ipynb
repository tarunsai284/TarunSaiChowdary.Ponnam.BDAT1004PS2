{
 "cells": [
  {
   "cell_type": "markdown",
   "id": "c3a75b88",
   "metadata": {},
   "source": [
    "# Assignment 1 \n",
    "### TarunSaiChowdary.Ponnam.BDAT1004PS2"
   ]
  },
  {
   "cell_type": "markdown",
   "id": "a19cd628",
   "metadata": {},
   "source": [
    "## Question 1\n",
    "Consider the following Python module: \n",
    "a = 0  \n",
    "\n",
    "def b():  \n",
    "    global a  \n",
    "    a = c(a)  \n",
    "def c(a):  \n",
    "    return a + 2  \n",
    "\n",
    "After importing the module into the interpreter, you execute:  \n",
    "\" >>> b()  \n",
    "\" >>> b()  \n",
    "\" >>> b()  \n",
    "\" >>> a  \n",
    "What value is displayed when the last expression (a) is evaluated? Explain your\n",
    "answer by indicating what happens in every executed statement."
   ]
  },
  {
   "cell_type": "markdown",
   "id": "e5d9f975",
   "metadata": {},
   "source": [
    "### Answer\n",
    "> The a value is 6.  \n",
    "\n",
    "The \"b()\" function call creates a new  namespace but the gloabl keyword will infer global \"a\" variable. Inside \"b()\" there is a function call for c with paramater a (gloabal variable). c(a) function call creates new namespace with \"a\" as a local local variable "
   ]
  },
  {
   "cell_type": "code",
   "execution_count": 1,
   "id": "d02a7a01",
   "metadata": {},
   "outputs": [
    {
     "data": {
      "text/plain": [
       "6"
      ]
     },
     "execution_count": 1,
     "metadata": {},
     "output_type": "execute_result"
    }
   ],
   "source": [
    "a = 0  \n",
    "def b():  \n",
    "    global a  \n",
    "    a = c(a)  \n",
    "def c(a):  \n",
    "    return a + 2  \n",
    "\n",
    "b()\n",
    "b()\n",
    "b()\n",
    "a"
   ]
  }
 ],
 "metadata": {
  "kernelspec": {
   "display_name": "Python 3 (ipykernel)",
   "language": "python",
   "name": "python3"
  },
  "language_info": {
   "codemirror_mode": {
    "name": "ipython",
    "version": 3
   },
   "file_extension": ".py",
   "mimetype": "text/x-python",
   "name": "python",
   "nbconvert_exporter": "python",
   "pygments_lexer": "ipython3",
   "version": "3.9.7"
  }
 },
 "nbformat": 4,
 "nbformat_minor": 5
}
