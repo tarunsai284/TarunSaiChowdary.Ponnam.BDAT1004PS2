{
 "cells": [
  {
   "cell_type": "markdown",
   "id": "c3a75b88",
   "metadata": {},
   "source": [
    "# Assignment 1 \n",
    "### TarunSaiChowdary.Ponnam.BDAT1004PS2"
   ]
  },
  {
   "cell_type": "markdown",
   "id": "a19cd628",
   "metadata": {},
   "source": [
    "## Question 1\n",
    "Consider the following Python module: \n",
    "a = 0  \n",
    "\n",
    "def b():  \n",
    "    global a  \n",
    "    a = c(a)  \n",
    "def c(a):  \n",
    "    return a + 2  \n",
    "\n",
    "After importing the module into the interpreter, you execute:  \n",
    "\" >>> b()  \n",
    "\" >>> b()  \n",
    "\" >>> b()  \n",
    "\" >>> a  \n",
    "What value is displayed when the last expression (a) is evaluated? Explain your\n",
    "answer by indicating what happens in every executed statement."
   ]
  },
  {
   "cell_type": "markdown",
   "id": "e5d9f975",
   "metadata": {},
   "source": [
    "### Answer\n",
    "> The \"a\" value is 6.  \n",
    "\n",
    "The \"b()\" function call creates a new  namespace but the gloabl keyword will infer global \"a\" variable. Inside \"b()\" there is a function call for \"c(a)\" with paramater \"a\" (gloabal variable). \"c(a)\" function call creates a new namespace with \"a\" as a local local variable.  \n",
    "> 1st b() call updates gloabal \"a\" value to 2.  \n",
    "> 2nd b() call updates gloabal \"a\" value to 4.  \n",
    "> 3rd b() call updates gloabal \"a\" value to 6.  \n",
    "> \"a\" outputs value 6."
   ]
  },
  {
   "cell_type": "code",
   "execution_count": 1,
   "id": "d02a7a01",
   "metadata": {},
   "outputs": [
    {
     "data": {
      "text/plain": [
       "6"
      ]
     },
     "execution_count": 1,
     "metadata": {},
     "output_type": "execute_result"
    }
   ],
   "source": [
    "a = 0  \n",
    "def b():  \n",
    "    global a  \n",
    "    a = c(a)  \n",
    "def c(a):  \n",
    "    return a + 2  \n",
    "\n",
    "b()\n",
    "b()\n",
    "b()\n",
    "a"
   ]
  },
  {
   "cell_type": "markdown",
   "id": "75067ef6",
   "metadata": {},
   "source": [
    "## Question 2\n",
    "Function fileLength(), given to you, takes the name of a file as input and returns.\n",
    "the length of the file:  \n",
    "> fileLength('midterm.py')  \n",
    "\n",
    "As shown above, if the file cannot be found by the interpreter or if it cannot be read  \n",
    "as a text file, an exception will be raised. Modify function fileLength() so that a  \n",
    "friendly message is printed instead:  \n",
    "> fileLength('midterm.py')  \n",
    "\n",
    "358  \n",
    "\n",
    "> fileLength('idterm.py')  \n",
    "File idterm.py not found.  "
   ]
  },
  {
   "cell_type": "code",
   "execution_count": 3,
   "id": "9cd7c386",
   "metadata": {},
   "outputs": [
    {
     "name": "stdout",
     "output_type": "stream",
     "text": [
      "445\n",
      "File idterm.py not found.\n"
     ]
    }
   ],
   "source": [
    "def fileLength(file_name):\n",
    "    try: \n",
    "        file = open(file_name)\n",
    "        contents = file.read()\n",
    "        file.close()\n",
    "        print(len(contents))\n",
    "    except FileNotFoundError:\n",
    "        print(\"File {} not found.\".format(file_name))\n",
    "    except:\n",
    "        print(\"Exception occured while opening up the file: {}\".format(file_name))\n",
    "\n",
    "fileLength('midterm.py')\n",
    "fileLength('idterm.py')"
   ]
  },
  {
   "cell_type": "markdown",
   "id": "c366ad0e",
   "metadata": {},
   "source": [
    "## Question 3\n",
    "Write a class named Marsupial that can be used as shown below:  \n",
    "> m = Marsupial()    \n",
    "> m.put_in_pouch('doll')    \n",
    "> m.put_in_pouch('firetruck')    \n",
    "> m.put_in_pouch('kitten')    \n",
    "> m.pouch_contents()  \n",
    "\n",
    "['doll', 'firetruck', 'kitten']  \n",
    "Now write a class named Kangaroo as a subclass of Marsupial that inherits all the attributes of Marsupial and also:  \n",
    "a. extends the Marsupial __init__ constructor to take, as input, the coordinates x and y of the Kangaroo object,  \n",
    "b. supports method jump that takes number values dx and dy as input and moves the kangaroo by dx units along the x-axis and by dy units along the y-axis, and  \n",
    "c. overloads the __str__ operator so it behaves as shown below.  \n",
    "> k = Kangaroo(0,0)  \n",
    "> print(k)  \n",
    "\n",
    "I am a Kangaroo located at coordinates (0,0)  \n",
    "> k.put_in_pouch('doll')  \n",
    "> k.put_in_pouch('firetruck')  \n",
    "> k.put_in_pouch('kitten')  \n",
    "> k.pouch_contents()  \n",
    "\n",
    "['doll', 'firetruck', 'kitten']  \n",
    "> k.jump(1,0)  \n",
    "> k.jump(1,0)  \n",
    "> k.jump(1,0)  \n",
    "> print(k)  \n",
    "\n",
    "I am a Kangaroo located at coordinates (3,0)  \n"
   ]
  },
  {
   "cell_type": "code",
   "execution_count": 16,
   "id": "c1e5e1d0",
   "metadata": {},
   "outputs": [
    {
     "name": "stdout",
     "output_type": "stream",
     "text": [
      "['doll', 'firetruck', 'kitten']\n",
      "I am a Kangaroo located at coordinates (0,0)\n",
      "['doll', 'firetruck', 'kitten']\n",
      "I am a Kangaroo located at coordinates (3,0)\n"
     ]
    }
   ],
   "source": [
    "class Marsupial:\n",
    "    \n",
    "    def __init__(self, x=None, y=None):\n",
    "        self.list = []\n",
    "        self.xCordinate = x\n",
    "        self.yCordinate = y\n",
    "\n",
    "    def put_in_pouch(self, item): \n",
    "        self.list.append(item)\n",
    "    \n",
    "    def pouch_contents(self):\n",
    "        print(self.list)\n",
    "\n",
    "class Kangaroo(Marsupial):\n",
    "\n",
    "    def jump(self, dx, dy):\n",
    "        self.xCordinate += dx\n",
    "        self.xCordinate += dy\n",
    "\n",
    "    def __str__(self):\n",
    "        return \"I am a Kangaroo located at coordinates ({},{})\".format(self.xCordinate, self.yCordinate)\n",
    "\n",
    "m = Marsupial()    \n",
    "m.put_in_pouch('doll')    \n",
    "m.put_in_pouch('firetruck')    \n",
    "m.put_in_pouch('kitten')    \n",
    "m.pouch_contents()\n",
    "\n",
    "k = Kangaroo(0,0)  \n",
    "print(k) \n",
    "\n",
    "k.put_in_pouch('doll')  \n",
    "k.put_in_pouch('firetruck')  \n",
    "k.put_in_pouch('kitten')  \n",
    "k.pouch_contents()  \n",
    "\n",
    "\n",
    "k.jump(1,0)  \n",
    "k.jump(1,0)  \n",
    "k.jump(1,0)  \n",
    "print(k) \n"
   ]
  },
  {
   "cell_type": "markdown",
   "id": "b0032f9f",
   "metadata": {},
   "source": [
    "## Question 4\n",
    "Write function collatz() that takes a positive integer x as input and prints the Collatz sequence starting at x. A Collatz sequence is obtained by repeatedly applying this rule to the previous number x in the sequence:  \n",
    "\n",
    "x = { 𝑥/2 𝑖𝑓 𝑥 𝑖𝑠 𝑒𝑣𝑒𝑛  \n",
    "3𝑥 + 1 𝑖𝑓 𝑥 𝑖𝑠 𝑜𝑑𝑑  \n",
    "\n",
    "Your function should stop when the sequence gets to number 1. Your implementation must be recursive, without any loops."
   ]
  },
  {
   "cell_type": "code",
   "execution_count": 21,
   "id": "3bb92ff6",
   "metadata": {},
   "outputs": [
    {
     "name": "stdout",
     "output_type": "stream",
     "text": [
      "10\n",
      "5\n",
      "16\n",
      "8\n",
      "4\n",
      "2\n",
      "1\n"
     ]
    }
   ],
   "source": [
    "def collatz(x):\n",
    "    # recursive blocker\n",
    "    print(x)\n",
    "    if (x==1): return\n",
    "    elif (x%2 == 0): \n",
    "        collatz(x//2)\n",
    "    else: \n",
    "        collatz((3*x)+1)\n",
    "\n",
    "collatz(10)"
   ]
  },
  {
   "cell_type": "markdown",
   "id": "dae90fd7",
   "metadata": {},
   "source": [
    "## Question 5\n",
    "Write a recursive method binary() that takes a non-negative integer n and prints the binary representation of integer n.\n",
    "binary(0)\n",
    "binary(1)\n",
    "binary(3)\n",
    "binary(9)"
   ]
  },
  {
   "cell_type": "code",
   "execution_count": 59,
   "id": "3ac4893a",
   "metadata": {},
   "outputs": [
    {
     "name": "stdout",
     "output_type": "stream",
     "text": [
      "0\n",
      "1\n",
      "11\n",
      "1001\n"
     ]
    }
   ],
   "source": [
    "\n",
    "def binary(num):\n",
    "    binaryString = \"\"\n",
    "    if (num<0 or (not isinstance(num,int))): print (\"Provide a posite integer\")\n",
    "    elif (num==0 or num == 1): \n",
    "        binaryString += str(num)\n",
    "    else: binaryString = recursiveBinary(num,binaryString)\n",
    "    print(binaryString)\n",
    "        \n",
    "def recursiveBinary(num,binaryString):\n",
    "    remainder = num%2\n",
    "    if (num==1):\n",
    "        binaryString += str(num) \n",
    "        return binaryString\n",
    "    else: \n",
    "        binaryString = recursiveBinary(num//2,binaryString)\n",
    "        binaryString += str(remainder)\n",
    "        return binaryString\n",
    "\n",
    "binary(0)\n",
    "binary(1)\n",
    "binary(3)\n",
    "binary(9)\n",
    "\n",
    "## Did not pay attention to the parameters had to redo it again, with global keyword\n",
    "# def binary(num,binaryString):\n",
    "#     remainder = num%2\n",
    "#     if (num<0 or (not isinstance(num,int))): print (\"Provide a posite integer\")\n",
    "#     elif (num==1): \n",
    "#         return str(num)\n",
    "#     else: \n",
    "#         binaryString = binary(num//2,binaryString)\n",
    "#         binaryString += str(remainder)\n",
    "#         return binaryString\n",
    "#     print(binaryString)\n",
    "        \n",
    "# binary(20,\"\")"
   ]
  },
  {
   "cell_type": "markdown",
   "id": "5a9b085a",
   "metadata": {},
   "source": [
    "## Question 6\n",
    "Implement a class named HeadingParser that can be used to parse an HTML document, and retrieve and print all the headings in the document. You should implement your class as a subclass of HTMLParser, defined in Standard Library module html.parser. When fed a string containing HTML code, your class should print the headings, one per line and in the order in which they appear in the document. Each heading should be indented as follows: an h1 heading should have"
   ]
  },
  {
   "cell_type": "code",
   "execution_count": null,
   "id": "20880b59",
   "metadata": {},
   "outputs": [],
   "source": [
    "from html.parser import HTMLParser\n",
    "\n",
    "class MyParser(HTMLParser):\n",
    "\n",
    "    def handle_starttag(self, tag, attrs):\n",
    "        heading = ['h1','h2','h3','h4','h5','h6']\n",
    "        global headingTags\n",
    "        if(tag.lower in heading): \n",
    "            headingTags.append()\n",
    "\n",
    "headingTags = []\n",
    "\n",
    "\n"
   ]
  },
  {
   "cell_type": "code",
   "execution_count": 87,
   "id": "75cccf10",
   "metadata": {},
   "outputs": [
    {
     "name": "stdout",
     "output_type": "stream",
     "text": [
      "W3C Mission\n",
      " Principles\n",
      " \n",
      "\n",
      " \n",
      "\n"
     ]
    }
   ],
   "source": [
    "from html.parser import HTMLParser\n",
    "\n",
    "class HeadingParser(HTMLParser):\n",
    "    def handle_starttag(self, tag, attrs):\n",
    "        global heading\n",
    "        global index\n",
    "        heading = False\n",
    "        headings = ['h1','h2','h3','h4','h5','h6']\n",
    "        if(tag.lower() in headings):\n",
    "            heading = True\n",
    "            index = headings.index(tag.lower())\n",
    "            paddingList.append(index)\n",
    "\n",
    "    # def handle_endtag(self, tag):\n",
    "    #     print(\"end tag :\", tag)\n",
    "\n",
    "    def handle_data(self, data):\n",
    "        global heading\n",
    "        if(heading):\n",
    "            dataList.append(data)\n",
    "            if(data and len(data)): \n",
    "                dataLength = len(data) + index\n",
    "                string = data.rjust(dataLength,\" \")\n",
    "                print(string)\n",
    "\n",
    "heading = False\n",
    "index = None\n",
    "paddingList = []\n",
    "dataList = []\n",
    "\n",
    "infile = open('w3c.html')\n",
    "content = infile.read()\n",
    "infile.close()\n",
    "hp = HeadingParser()\n",
    "hp.feed(content)"
   ]
  },
  {
   "cell_type": "markdown",
   "id": "f4e88ee9",
   "metadata": {},
   "source": [
    "## Question 7\n",
    "Implement recursive function webdir() that takes as input: a URL (as a string) and non-negative integers depth and indent. Your function should visit every web page reachable from the starting URL web page in depth clicks or less, and print each web page's URL. As shown below, indentation, specified by indent, should be used to indicate the depth of a URL."
   ]
  },
  {
   "cell_type": "markdown",
   "id": "2114e741",
   "metadata": {},
   "source": [
    "## Question 8\n",
    "Write SQL queries on the below database table that return:\n",
    "a) All the temperature data.\n",
    "b) All the cities, but without repetition.\n",
    "c) All the records for India.\n",
    "d) All the Fall records."
   ]
  },
  {
   "cell_type": "markdown",
   "id": "5522d566",
   "metadata": {},
   "source": [
    "## Question 9\n",
    "Suppose list words is defined as follows:\n",
    "words = ['The', 'quick', 'brown', 'fox', 'jumps', 'over', 'the', 'lazy', 'dog']"
   ]
  },
  {
   "cell_type": "code",
   "execution_count": 10,
   "id": "85e82ed3",
   "metadata": {},
   "outputs": [
    {
     "name": "stdout",
     "output_type": "stream",
     "text": [
      "Answer a:  ['THE', 'QUICK', 'BROWN', 'FOX', 'JUMPS', 'OVER', 'THE', 'LAZY', 'DOG']\n",
      "Answer b:  ['the', 'quick', 'brown', 'fox', 'jumps', 'over', 'the', 'lazy', 'dog']\n",
      "Answer c:  [3, 5, 5, 3, 5, 4, 3, 4, 3]\n",
      "Answer d:  [['THE', 'the', 3], ['QUICK', 'quick', 5], ['BROWN', 'brown', 5], ['FOX', 'fox', 3], ['JUMPS', 'jumps', 5], ['OVER', 'over', 4], ['THE', 'the', 3], ['LAZY', 'lazy', 4], ['DOG', 'dog', 3]]\n",
      "Answer e:  ['quick', 'brown', 'jumps', 'over', 'lazy']\n"
     ]
    }
   ],
   "source": [
    "upperList = []\n",
    "lowerList = []\n",
    "lengthList = []\n",
    "mixupList = []\n",
    "filterList = []\n",
    "\n",
    "words = ['The', 'quick', 'brown', 'fox', 'jumps', 'over', 'the', 'lazy', 'dog']\n",
    "for word in words:\n",
    "    upperList.append(word.upper())\n",
    "    lowerList.append(word.lower())\n",
    "    lengthList.append(len(word))\n",
    "    mixupList.append([word.upper(), word.lower(), len(word)])\n",
    "    if(len(word)>3): filterList.append(word)\n",
    "\n",
    "print(\"Answer a: \", upperList)\n",
    "print(\"Answer b: \", lowerList)\n",
    "print(\"Answer c: \", lengthList)\n",
    "print(\"Answer d: \", mixupList)\n",
    "print(\"Answer e: \", filterList)\n"
   ]
  },
  {
   "cell_type": "code",
   "execution_count": null,
   "id": "335df747",
   "metadata": {},
   "outputs": [],
   "source": []
  }
 ],
 "metadata": {
  "kernelspec": {
   "display_name": "Python 3 (ipykernel)",
   "language": "python",
   "name": "python3"
  },
  "language_info": {
   "codemirror_mode": {
    "name": "ipython",
    "version": 3
   },
   "file_extension": ".py",
   "mimetype": "text/x-python",
   "name": "python",
   "nbconvert_exporter": "python",
   "pygments_lexer": "ipython3",
   "version": "3.9.7"
  }
 },
 "nbformat": 4,
 "nbformat_minor": 5
}
